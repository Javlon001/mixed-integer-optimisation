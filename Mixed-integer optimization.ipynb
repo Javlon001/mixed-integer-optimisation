{
 "cells": [
  {
   "cell_type": "markdown",
   "metadata": {},
   "source": [
    "# Mixed-integer optimization"
   ]
  },
  {
   "cell_type": "code",
   "execution_count": 1,
   "metadata": {},
   "outputs": [],
   "source": [
    "# Import Gurobi package\n",
    "import gurobipy as gb"
   ]
  },
  {
   "cell_type": "code",
   "execution_count": 2,
   "metadata": {},
   "outputs": [
    {
     "name": "stdout",
     "output_type": "stream",
     "text": [
      "Restricted license - for non-production use only - expires 2025-11-24\n"
     ]
    }
   ],
   "source": [
    "# Create model\n",
    "m = gb.Model()\n",
    "\n",
    "# Add variables\n",
    "projects = [1, 2, 3, 4, 5, 6]\n",
    "x = m.addVars(projects, vtype=gb.GRB.BINARY)\n",
    "\n",
    "# Define objective function\n",
    "m.setObjective(6 * (x[1] + x[2] + x[3] + x[4]) + 10 * (x[5] + x[6]), \n",
    "               sense=gb.GRB.MAXIMIZE)\n",
    "\n",
    "# Add constraint\n",
    "m.addConstr(5 * (x[1] + x[2] + x[3] + x[4]) + 8 * (x[5] + x[6]) <= 24)\n",
    "\n",
    "# Specify Gurobi options\n",
    "m.setParam('OutputFlag', 0)\n",
    "\n",
    "# Run optimization\n",
    "m.optimize()"
   ]
  },
  {
   "cell_type": "code",
   "execution_count": 3,
   "metadata": {},
   "outputs": [
    {
     "data": {
      "text/plain": [
       "{1: <gurobi.Var C0 (value 1.0)>,\n",
       " 2: <gurobi.Var C1 (value 1.0)>,\n",
       " 3: <gurobi.Var C2 (value 1.0)>,\n",
       " 4: <gurobi.Var C3 (value 1.0)>,\n",
       " 5: <gurobi.Var C4 (value 0.0)>,\n",
       " 6: <gurobi.Var C5 (value 0.0)>}"
      ]
     },
     "execution_count": 3,
     "metadata": {},
     "output_type": "execute_result"
    }
   ],
   "source": [
    "# Print values of variables\n",
    "x"
   ]
  },
  {
   "cell_type": "code",
   "execution_count": null,
   "metadata": {},
   "outputs": [
    {
     "data": {
      "text/plain": [
       "24.0"
      ]
     },
     "execution_count": 4,
     "metadata": {},
     "output_type": "execute_result"
    }
   ],
   "source": [
    "# Print objective function value\n",
    "m.ObjVal"
   ]
  },
  {
   "cell_type": "code",
   "execution_count": null,
   "metadata": {},
   "outputs": [],
   "source": [
    "#This is just to show how pull and push will appear\n",
    "# Here goes the content"
   ]
  },
  {
   "cell_type": "code",
   "execution_count": null,
   "metadata": {},
   "outputs": [],
   "source": [
    "#Here we want to add some text "
   ]
  },
  {
   "cell_type": "code",
   "execution_count": null,
   "metadata": {},
   "outputs": [],
   "source": []
  }
 ],
 "metadata": {
  "kernelspec": {
   "display_name": "base",
   "language": "python",
   "name": "python3"
  },
  "language_info": {
   "codemirror_mode": {
    "name": "ipython",
    "version": 3
   },
   "file_extension": ".py",
   "mimetype": "text/x-python",
   "name": "python",
   "nbconvert_exporter": "python",
   "pygments_lexer": "ipython3",
   "version": "3.11.5"
  }
 },
 "nbformat": 4,
 "nbformat_minor": 2
}
